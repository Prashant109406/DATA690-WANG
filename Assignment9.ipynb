{
 "cells": [
  {
   "cell_type": "markdown",
   "metadata": {},
   "source": [
    "A random survey of enrollment at 35 community colleges across the United States yielded the following figures:\n",
    "\n",
    "6,414; 1,550; 2,109; 9,350; 21,828; 4,300; 5,944; 5,722; 2,825; 2,044;\n",
    "\n",
    "5,481; 5,200; 5,853; 2,750; 10,012; 6,357; 27,000; 9,414; 7,681; 3,200;\n",
    "\n",
    "17,500; 9,200; 7,380; 18,314; 6,557; 13,713; 17,768; 7,493; 2,771; 2,861;\n",
    "\n",
    "1,263; 7,285; 28,165; 5,080; 11,622\n",
    "\n",
    "Perform point estimate and interval estimate of average enrollment of US community colleges with 95% confidence level."
   ]
  },
  {
   "cell_type": "code",
   "execution_count": 16,
   "metadata": {},
   "outputs": [],
   "source": [
    "#importing libraries\n",
    "import math\n",
    "import scipy.stats as stats\n",
    "import numpy as np\n"
   ]
  },
  {
   "cell_type": "code",
   "execution_count": 3,
   "metadata": {},
   "outputs": [],
   "source": [
    "data=[6414, 1550, 2109,9350, 21828, 4300, 5944, 5722, 2825, 2044,5481, 5200, 5853, 2750, 10012, 6357, 27000, 9414, 7681,\n",
    "3200,17500, 9200, 7380, 18314, 6557, 13713, 17768, 7493, 2771, 2861,1263, 7285, 28165, 5080, 11622]\n",
    "\n"
   ]
  },
  {
   "cell_type": "code",
   "execution_count": 4,
   "metadata": {},
   "outputs": [
    {
     "name": "stdout",
     "output_type": "stream",
     "text": [
      "Sample mean = 8628.74\n"
     ]
    }
   ],
   "source": [
    "sample_mean = round(np.mean(data),2)\n",
    "print(\"Sample mean =\", sample_mean)"
   ]
  },
  {
   "cell_type": "code",
   "execution_count": 5,
   "metadata": {},
   "outputs": [
    {
     "name": "stdout",
     "output_type": "stream",
     "text": [
      "Sample Standard Deviation = 6943.88\n"
     ]
    }
   ],
   "source": [
    "sample_std = np.std(data, ddof=1) \n",
    "sample_std = round(sample_std, 2)         \n",
    "print(\"Sample Standard Deviation =\", sample_std)"
   ]
  },
  {
   "cell_type": "code",
   "execution_count": 6,
   "metadata": {},
   "outputs": [
    {
     "name": "stdout",
     "output_type": "stream",
     "text": [
      "Sample Standard Error is 1173.73\n"
     ]
    }
   ],
   "source": [
    "sample_std_err = sample_std / math.sqrt(len(data))\n",
    "sample_std_err = round(sample_std_err,2)\n",
    "print(\"Sample Standard Error is\", sample_std_err)"
   ]
  },
  {
   "cell_type": "code",
   "execution_count": 12,
   "metadata": {},
   "outputs": [
    {
     "name": "stdout",
     "output_type": "stream",
     "text": [
      "t critical value or t statistics =  2.03\n"
     ]
    }
   ],
   "source": [
    "#t-distribution value for 95% interval\n",
    "#using 0.975 because the interval lies between 95 and 97.5\n",
    "t_value = stats.t.ppf(0.975, 34)\n",
    "print(\"t critical value or t statistics = \", round(t_value,2))"
   ]
  },
  {
   "cell_type": "code",
   "execution_count": 9,
   "metadata": {},
   "outputs": [
    {
     "name": "stdout",
     "output_type": "stream",
     "text": [
      "Margin of Error = 2385.31\n"
     ]
    }
   ],
   "source": [
    "#Margin of Error = t-statistics * Sample Standard Error\n",
    "margin_of_error = round(t_value * sample_std_err,2) \n",
    "print(\"Margin of Error =\", margin_of_error)"
   ]
  },
  {
   "cell_type": "code",
   "execution_count": 13,
   "metadata": {},
   "outputs": [
    {
     "name": "stdout",
     "output_type": "stream",
     "text": [
      "Lower Limit =  6243.43\n"
     ]
    }
   ],
   "source": [
    "lower_limit = sample_mean - margin_of_error\n",
    "print (\"Lower Limit = \", lower_limit)"
   ]
  },
  {
   "cell_type": "code",
   "execution_count": 14,
   "metadata": {},
   "outputs": [
    {
     "name": "stdout",
     "output_type": "stream",
     "text": [
      "Upper Limit =  11014.05\n"
     ]
    }
   ],
   "source": [
    "upper_limit = sample_mean + margin_of_error\n",
    "print (\"Upper Limit = \", upper_limit)"
   ]
  },
  {
   "cell_type": "code",
   "execution_count": null,
   "metadata": {},
   "outputs": [],
   "source": []
  }
 ],
 "metadata": {
  "kernelspec": {
   "display_name": "Python 3",
   "language": "python",
   "name": "python3"
  },
  "language_info": {
   "codemirror_mode": {
    "name": "ipython",
    "version": 3
   },
   "file_extension": ".py",
   "mimetype": "text/x-python",
   "name": "python",
   "nbconvert_exporter": "python",
   "pygments_lexer": "ipython3",
   "version": "3.7.4"
  }
 },
 "nbformat": 4,
 "nbformat_minor": 2
}
