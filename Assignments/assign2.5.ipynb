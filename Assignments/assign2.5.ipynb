{
 "cells": [
  {
   "cell_type": "markdown",
   "metadata": {},
   "source": [
    "1.The below program asks the user to enter their name and their age. \n",
    "  It prints out a message addressed to them that tells them the year that they will turn 100 years old."
   ]
  },
  {
   "cell_type": "code",
   "execution_count": null,
   "metadata": {},
   "outputs": [],
   "source": [
    "#importing datetime lib to calculate current year\n",
    "import datetime \n",
    "#ask user to input name\n",
    "name=str(input(\"enter name: \"))\n",
    "#ask user to input age\n",
    "age=(int(input(\"enter age: \")))\n",
    "current_year = int(datetime.datetime.now().year)\n",
    "age_100=100-age+current_year\n",
    "print(name,\"will be 100 in\",age_100)\n",
    "count=int(input(\"enter number\"))\n",
    "for i in range(0,count):\n",
    "    print(age_100,\"\\n\")"
   ]
  },
  {
   "cell_type": "markdown",
   "metadata": {},
   "source": [
    "2.The below program asks the user for a number. Depending on whether the number is even or odd,it prinst out an appropriate       message to the user.\n",
    "  If the number is a multiple of 4,it prints out a different message.\n",
    "  Then asks the user one number to divide by (check). If check divides evenly into num, tells that to the user. If not, prints   a different appropriate message."
   ]
  },
  {
   "cell_type": "code",
   "execution_count": 3,
   "metadata": {},
   "outputs": [
    {
     "name": "stdout",
     "output_type": "stream",
     "text": [
      "Enter a number: 7\n",
      "7 is an odd number\n",
      "Enter a number to check if it divides num evenly 6\n",
      "6 does not divides  7 evenly\n"
     ]
    }
   ],
   "source": [
    "num = int(input(\"Enter a number: \"))\n",
    "\n",
    "#performing modulus to find whether the remainder is equal to 0\n",
    "\n",
    "if num % 2 == 0:\n",
    "    print(num, \"is an even number\")\n",
    "elif num % 4 == 0:\n",
    "    print(num, \"is a multiple of 4\")\n",
    "else:\n",
    "    print(num, \"is an odd number\")\n",
    "check = int(input(\"Enter a number to check if it divides num evenly \"))\n",
    "if num % check == 0:\n",
    "    print(check, \"divides \",num,\"evenly\")\n",
    "else:\n",
    "    print(check, \"does not divides \",num,\"evenly\")"
   ]
  },
  {
   "cell_type": "markdown",
   "metadata": {},
   "source": [
    "3. The below program asks the user for a number and return a list that contains only elements from the original list\n",
    "   that are smaller than that number given by the user."
   ]
  },
  {
   "cell_type": "code",
   "execution_count": 7,
   "metadata": {},
   "outputs": [
    {
     "name": "stdout",
     "output_type": "stream",
     "text": [
      "enter number: 6\n",
      "[1, 2, 3, 4, 5]\n"
     ]
    }
   ],
   "source": [
    "list1 = [1,2,3,4,5,6,7,8,9,10]\n",
    "user_input=int(input(\"enter number: \"))\n",
    "\n",
    "#performing a single line operation to find if the numbers in the list is smaller than the user input\n",
    "print([num for num in list1 if num < user_input])"
   ]
  },
  {
   "cell_type": "markdown",
   "metadata": {},
   "source": [
    "4. The program asks the user for a number and then prints out a list of all the divisors of that number"
   ]
  },
  {
   "cell_type": "code",
   "execution_count": 12,
   "metadata": {},
   "outputs": [
    {
     "name": "stdout",
     "output_type": "stream",
     "text": [
      "Enter a number: 9\n",
      "Divisors for 9 are [1, 3, 9]\n"
     ]
    }
   ],
   "source": [
    "#ask the  user for a number\n",
    "num = int(input('Enter a number: '))\n",
    "divisor_list = []\n",
    "for x in range(1,num+1):\n",
    "    #performing modulus to find whether the remainder is equal to 0\n",
    "    if num%x == 0:\n",
    "        #appending the number into divisor_list\n",
    "        divisor_list.append(x)\n",
    "print(\"Divisors for\",num,\"are\",divisor_list)"
   ]
  },
  {
   "cell_type": "markdown",
   "metadata": {},
   "source": [
    "5. The program returns a list that contains only the elements that are common between the lists (without duplicates)"
   ]
  },
  {
   "cell_type": "code",
   "execution_count": 49,
   "metadata": {},
   "outputs": [
    {
     "name": "stdout",
     "output_type": "stream",
     "text": [
      "[1, 2, 4, 7, 8, 9, 5, 6, 10, 2]\n",
      "[5, 7, 7, 2, 7, 5, 2, 5, 5]\n",
      "[2, 5, 7]\n"
     ]
    }
   ],
   "source": [
    "import random\n",
    "list3=0\n",
    "\n",
    "#list of 10 random integers\n",
    "list1 = [random.randint(1, 10) for i in range(10)]\n",
    "list2 = [random.randint(1, 10) for u in range(10)]\n",
    "print(list1)\n",
    "print(list2)\n",
    "\n",
    "#converting the list into a set to remove duplicates and then back to a list\n",
    "list1=list(set(list1))\n",
    "list2=list(set(list2))\n",
    "\n",
    "print([list3+num for num in list1 and list2 if num in list1 and list2])\n",
    "\n",
    "\n"
   ]
  },
  {
   "cell_type": "markdown",
   "metadata": {},
   "source": [
    "The program asks the user for a string and prints out whether this string is a palindrome or not"
   ]
  },
  {
   "cell_type": "code",
   "execution_count": null,
   "metadata": {},
   "outputs": [],
   "source": [
    "#ask the user for string\n",
    "string=input(\"Please enter a string\")\n",
    "string=str(string)\n",
    "\n",
    "#reverse the string using slicing\n",
    "reverse_string=string[::-1]\n",
    "\n",
    "print(\"Reverse of string\",reverse_string)\n",
    "if string == reverse_string:\n",
    "    print(\"This word is a palindrome\")\n",
    "else:\n",
    "    print(\"This word is not a palindrome\")"
   ]
  },
  {
   "cell_type": "code",
   "execution_count": null,
   "metadata": {},
   "outputs": [],
   "source": [
    "\n"
   ]
  },
  {
   "cell_type": "code",
   "execution_count": null,
   "metadata": {},
   "outputs": [],
   "source": []
  },
  {
   "cell_type": "code",
   "execution_count": null,
   "metadata": {},
   "outputs": [],
   "source": []
  }
 ],
 "metadata": {
  "kernelspec": {
   "display_name": "Python 3",
   "language": "python",
   "name": "python3"
  },
  "language_info": {
   "codemirror_mode": {
    "name": "ipython",
    "version": 3
   },
   "file_extension": ".py",
   "mimetype": "text/x-python",
   "name": "python",
   "nbconvert_exporter": "python",
   "pygments_lexer": "ipython3",
   "version": "3.7.4"
  }
 },
 "nbformat": 4,
 "nbformat_minor": 2
}
