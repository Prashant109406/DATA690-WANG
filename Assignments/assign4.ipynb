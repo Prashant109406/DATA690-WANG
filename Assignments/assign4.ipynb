{
 "cells": [
  {
   "cell_type": "markdown",
   "metadata": {
    "colab_type": "text",
    "id": "view-in-github"
   },
   "source": [
    "<a href=\"https://colab.research.google.com/github/wcj365/python-stats-dataviz/blob/master/assignments/Assignment-04.ipynb\" target=\"_parent\"><img src=\"https://colab.research.google.com/assets/colab-badge.svg\" alt=\"Open In Colab\"/></a>"
   ]
  },
  {
   "cell_type": "code",
   "execution_count": 150,
   "metadata": {
    "colab": {},
    "colab_type": "code",
    "collapsed": true,
    "id": "h1dBKntgwtH4"
   },
   "outputs": [],
   "source": [
    "# <1> \n",
    "# Import libraries\n",
    "\n",
    "import matplotlib.pyplot as plt\n",
    "import numpy as ny\n",
    "import seaborn as sns\n"
   ]
  },
  {
   "cell_type": "code",
   "execution_count": 163,
   "metadata": {
    "colab": {},
    "colab_type": "code",
    "id": "qJ9o7d8twtH_"
   },
   "outputs": [
    {
     "data": {
      "text/html": [
       "<div>\n",
       "<style scoped>\n",
       "    .dataframe tbody tr th:only-of-type {\n",
       "        vertical-align: middle;\n",
       "    }\n",
       "\n",
       "    .dataframe tbody tr th {\n",
       "        vertical-align: top;\n",
       "    }\n",
       "\n",
       "    .dataframe thead th {\n",
       "        text-align: right;\n",
       "    }\n",
       "</style>\n",
       "<table border=\"1\" class=\"dataframe\">\n",
       "  <thead>\n",
       "    <tr style=\"text-align: right;\">\n",
       "      <th></th>\n",
       "      <th>UNITID</th>\n",
       "      <th>OPEID</th>\n",
       "      <th>OPEID6</th>\n",
       "      <th>INSTNM</th>\n",
       "      <th>CITY</th>\n",
       "      <th>ZIP</th>\n",
       "      <th>ADM_RATE</th>\n",
       "      <th>UGDS</th>\n",
       "      <th>TUITIONFEE_IN</th>\n",
       "    </tr>\n",
       "  </thead>\n",
       "  <tbody>\n",
       "    <tr>\n",
       "      <td>0</td>\n",
       "      <td>100654</td>\n",
       "      <td>100200</td>\n",
       "      <td>1002</td>\n",
       "      <td>Alabama A &amp; M University</td>\n",
       "      <td>Normal</td>\n",
       "      <td>35762</td>\n",
       "      <td>0.9027</td>\n",
       "      <td>4824.0</td>\n",
       "      <td>9857.0</td>\n",
       "    </tr>\n",
       "    <tr>\n",
       "      <td>1</td>\n",
       "      <td>100663</td>\n",
       "      <td>105200</td>\n",
       "      <td>1052</td>\n",
       "      <td>University of Alabama at Birmingham</td>\n",
       "      <td>Birmingham</td>\n",
       "      <td>35294-0110</td>\n",
       "      <td>0.9181</td>\n",
       "      <td>12866.0</td>\n",
       "      <td>8328.0</td>\n",
       "    </tr>\n",
       "    <tr>\n",
       "      <td>2</td>\n",
       "      <td>100690</td>\n",
       "      <td>2503400</td>\n",
       "      <td>25034</td>\n",
       "      <td>Amridge University</td>\n",
       "      <td>Montgomery</td>\n",
       "      <td>36117-3553</td>\n",
       "      <td>NaN</td>\n",
       "      <td>322.0</td>\n",
       "      <td>6900.0</td>\n",
       "    </tr>\n",
       "    <tr>\n",
       "      <td>3</td>\n",
       "      <td>100706</td>\n",
       "      <td>105500</td>\n",
       "      <td>1055</td>\n",
       "      <td>University of Alabama in Huntsville</td>\n",
       "      <td>Huntsville</td>\n",
       "      <td>35899</td>\n",
       "      <td>0.8123</td>\n",
       "      <td>6917.0</td>\n",
       "      <td>10280.0</td>\n",
       "    </tr>\n",
       "    <tr>\n",
       "      <td>4</td>\n",
       "      <td>100724</td>\n",
       "      <td>100500</td>\n",
       "      <td>1005</td>\n",
       "      <td>Alabama State University</td>\n",
       "      <td>Montgomery</td>\n",
       "      <td>36104-0271</td>\n",
       "      <td>0.9787</td>\n",
       "      <td>4189.0</td>\n",
       "      <td>11068.0</td>\n",
       "    </tr>\n",
       "    <tr>\n",
       "      <td>...</td>\n",
       "      <td>...</td>\n",
       "      <td>...</td>\n",
       "      <td>...</td>\n",
       "      <td>...</td>\n",
       "      <td>...</td>\n",
       "      <td>...</td>\n",
       "      <td>...</td>\n",
       "      <td>...</td>\n",
       "      <td>...</td>\n",
       "    </tr>\n",
       "    <tr>\n",
       "      <td>7107</td>\n",
       "      <td>48312404</td>\n",
       "      <td>108163</td>\n",
       "      <td>1081</td>\n",
       "      <td>Arizona State University at Yuma</td>\n",
       "      <td>Yuma</td>\n",
       "      <td>853656900</td>\n",
       "      <td>NaN</td>\n",
       "      <td>NaN</td>\n",
       "      <td>NaN</td>\n",
       "    </tr>\n",
       "    <tr>\n",
       "      <td>7108</td>\n",
       "      <td>48387801</td>\n",
       "      <td>4223701</td>\n",
       "      <td>42237</td>\n",
       "      <td>Bay Area Medical Academy - San Jose Satellite ...</td>\n",
       "      <td>San Jose</td>\n",
       "      <td>95113</td>\n",
       "      <td>NaN</td>\n",
       "      <td>NaN</td>\n",
       "      <td>NaN</td>\n",
       "    </tr>\n",
       "    <tr>\n",
       "      <td>7109</td>\n",
       "      <td>48400201</td>\n",
       "      <td>4228101</td>\n",
       "      <td>42281</td>\n",
       "      <td>High Desert Medical College</td>\n",
       "      <td>Lancaster</td>\n",
       "      <td>935340000</td>\n",
       "      <td>NaN</td>\n",
       "      <td>NaN</td>\n",
       "      <td>NaN</td>\n",
       "    </tr>\n",
       "    <tr>\n",
       "      <td>7110</td>\n",
       "      <td>48778201</td>\n",
       "      <td>4221501</td>\n",
       "      <td>42215</td>\n",
       "      <td>BCI - Malden</td>\n",
       "      <td>Malden</td>\n",
       "      <td>021480000</td>\n",
       "      <td>NaN</td>\n",
       "      <td>NaN</td>\n",
       "      <td>NaN</td>\n",
       "    </tr>\n",
       "    <tr>\n",
       "      <td>7111</td>\n",
       "      <td>49005401</td>\n",
       "      <td>4182601</td>\n",
       "      <td>41826</td>\n",
       "      <td>Health Career Institute- Lauderdale Lakes</td>\n",
       "      <td>Lauderdale Lakes</td>\n",
       "      <td>333137268</td>\n",
       "      <td>NaN</td>\n",
       "      <td>NaN</td>\n",
       "      <td>22575.0</td>\n",
       "    </tr>\n",
       "  </tbody>\n",
       "</table>\n",
       "<p>7112 rows × 9 columns</p>\n",
       "</div>"
      ],
      "text/plain": [
       "        UNITID    OPEID  OPEID6  \\\n",
       "0       100654   100200    1002   \n",
       "1       100663   105200    1052   \n",
       "2       100690  2503400   25034   \n",
       "3       100706   105500    1055   \n",
       "4       100724   100500    1005   \n",
       "...        ...      ...     ...   \n",
       "7107  48312404   108163    1081   \n",
       "7108  48387801  4223701   42237   \n",
       "7109  48400201  4228101   42281   \n",
       "7110  48778201  4221501   42215   \n",
       "7111  49005401  4182601   41826   \n",
       "\n",
       "                                                 INSTNM              CITY  \\\n",
       "0                              Alabama A & M University            Normal   \n",
       "1                   University of Alabama at Birmingham        Birmingham   \n",
       "2                                    Amridge University        Montgomery   \n",
       "3                   University of Alabama in Huntsville        Huntsville   \n",
       "4                              Alabama State University        Montgomery   \n",
       "...                                                 ...               ...   \n",
       "7107                   Arizona State University at Yuma              Yuma   \n",
       "7108  Bay Area Medical Academy - San Jose Satellite ...          San Jose   \n",
       "7109                        High Desert Medical College         Lancaster   \n",
       "7110                                       BCI - Malden            Malden   \n",
       "7111          Health Career Institute- Lauderdale Lakes  Lauderdale Lakes   \n",
       "\n",
       "             ZIP  ADM_RATE     UGDS  TUITIONFEE_IN  \n",
       "0          35762    0.9027   4824.0         9857.0  \n",
       "1     35294-0110    0.9181  12866.0         8328.0  \n",
       "2     36117-3553       NaN    322.0         6900.0  \n",
       "3          35899    0.8123   6917.0        10280.0  \n",
       "4     36104-0271    0.9787   4189.0        11068.0  \n",
       "...          ...       ...      ...            ...  \n",
       "7107   853656900       NaN      NaN            NaN  \n",
       "7108       95113       NaN      NaN            NaN  \n",
       "7109   935340000       NaN      NaN            NaN  \n",
       "7110   021480000       NaN      NaN            NaN  \n",
       "7111   333137268       NaN      NaN        22575.0  \n",
       "\n",
       "[7112 rows x 9 columns]"
      ]
     },
     "execution_count": 163,
     "metadata": {},
     "output_type": "execute_result"
    }
   ],
   "source": [
    "# <2>\n",
    "# load the 2017-2018 school year file \"MERGED2017_18_PP.csv\" \n",
    "# Don't include all columns - too many and take up computer resources (computeing power and memory)\n",
    "# Only load the following 10 columns should be loaded:\n",
    "# UNITID: \n",
    "# OPEID:              \n",
    "# OPEID6:            \n",
    "# INSTNM:          \n",
    "# CITY:                      \n",
    "# ZIP:               \n",
    "# ADM_RATE:           \n",
    "# UGDS:              \n",
    "# TUITIONFEE_IN:      \n",
    "\n",
    "file=pd.read_csv(r\"C:\\Users\\Prashant Mourya\\Downloads\\CollegeScorecard_Raw_Data\\MERGED2017_18_PP.csv\",low_memory=False,usecols=[\"UNITID\",\"OPEID\",\"OPEID6\",\"INSTNM\",\"CITY\",\"ZIP\",\"ADM_RATE\",\"UGDS\",\"TUITIONFEE_IN\"])\n",
    "file"
   ]
  },
  {
   "cell_type": "code",
   "execution_count": 164,
   "metadata": {
    "colab": {},
    "colab_type": "code",
    "id": "fOIPL0FzwtIC"
   },
   "outputs": [
    {
     "data": {
      "text/html": [
       "<div>\n",
       "<style scoped>\n",
       "    .dataframe tbody tr th:only-of-type {\n",
       "        vertical-align: middle;\n",
       "    }\n",
       "\n",
       "    .dataframe tbody tr th {\n",
       "        vertical-align: top;\n",
       "    }\n",
       "\n",
       "    .dataframe thead th {\n",
       "        text-align: right;\n",
       "    }\n",
       "</style>\n",
       "<table border=\"1\" class=\"dataframe\">\n",
       "  <thead>\n",
       "    <tr style=\"text-align: right;\">\n",
       "      <th></th>\n",
       "      <th>UNITID</th>\n",
       "      <th>MD_EARN_WNE_P10</th>\n",
       "    </tr>\n",
       "  </thead>\n",
       "  <tbody>\n",
       "    <tr>\n",
       "      <td>0</td>\n",
       "      <td>100654</td>\n",
       "      <td>31000</td>\n",
       "    </tr>\n",
       "    <tr>\n",
       "      <td>1</td>\n",
       "      <td>100663</td>\n",
       "      <td>41200</td>\n",
       "    </tr>\n",
       "    <tr>\n",
       "      <td>2</td>\n",
       "      <td>100690</td>\n",
       "      <td>39600</td>\n",
       "    </tr>\n",
       "    <tr>\n",
       "      <td>3</td>\n",
       "      <td>100706</td>\n",
       "      <td>46700</td>\n",
       "    </tr>\n",
       "    <tr>\n",
       "      <td>4</td>\n",
       "      <td>100724</td>\n",
       "      <td>27700</td>\n",
       "    </tr>\n",
       "    <tr>\n",
       "      <td>...</td>\n",
       "      <td>...</td>\n",
       "      <td>...</td>\n",
       "    </tr>\n",
       "    <tr>\n",
       "      <td>7107</td>\n",
       "      <td>48312404</td>\n",
       "      <td>NaN</td>\n",
       "    </tr>\n",
       "    <tr>\n",
       "      <td>7108</td>\n",
       "      <td>48387801</td>\n",
       "      <td>NaN</td>\n",
       "    </tr>\n",
       "    <tr>\n",
       "      <td>7109</td>\n",
       "      <td>48400201</td>\n",
       "      <td>NaN</td>\n",
       "    </tr>\n",
       "    <tr>\n",
       "      <td>7110</td>\n",
       "      <td>48778201</td>\n",
       "      <td>NaN</td>\n",
       "    </tr>\n",
       "    <tr>\n",
       "      <td>7111</td>\n",
       "      <td>49005401</td>\n",
       "      <td>NaN</td>\n",
       "    </tr>\n",
       "  </tbody>\n",
       "</table>\n",
       "<p>7112 rows × 2 columns</p>\n",
       "</div>"
      ],
      "text/plain": [
       "        UNITID MD_EARN_WNE_P10\n",
       "0       100654           31000\n",
       "1       100663           41200\n",
       "2       100690           39600\n",
       "3       100706           46700\n",
       "4       100724           27700\n",
       "...        ...             ...\n",
       "7107  48312404             NaN\n",
       "7108  48387801             NaN\n",
       "7109  48400201             NaN\n",
       "7110  48778201             NaN\n",
       "7111  49005401             NaN\n",
       "\n",
       "[7112 rows x 2 columns]"
      ]
     },
     "execution_count": 164,
     "metadata": {},
     "output_type": "execute_result"
    }
   ],
   "source": [
    "# <3>\n",
    "# Load the scorecard file Most-Recent-Cohorts-Scorecard-Elements.csv from the link:\n",
    "# https://ed-public-download.app.cloud.gov/downloads/Most-Recent-Cohorts-Scorecard-Elements.csv\n",
    "# This file has thre median earnings which is not present in the previous file\n",
    "# Only load the two columns:\n",
    "# UNITID - This column is the unique identity for each college and will be used to join with the previous file\n",
    "# MD_EARN_WNE_P10  - This column has the median earnings\n",
    "\n",
    "score_card=pd.read_csv(r\"C:\\Users\\Prashant Mourya\\Downloads\\Most-Recent-Cohorts-Scorecard-Elements.csv\",low_memory=False,usecols=[\"UNITID\",\"MD_EARN_WNE_P10\"])\n",
    "\n",
    "score_card\n"
   ]
  },
  {
   "cell_type": "code",
   "execution_count": 165,
   "metadata": {
    "colab": {},
    "colab_type": "code",
    "id": "Z2r8AaE1wtIE"
   },
   "outputs": [
    {
     "name": "stdout",
     "output_type": "stream",
     "text": [
      "<class 'pandas.core.frame.DataFrame'>\n",
      "RangeIndex: 7112 entries, 0 to 7111\n",
      "Data columns (total 2 columns):\n",
      "UNITID             7112 non-null int64\n",
      "MD_EARN_WNE_P10    5887 non-null object\n",
      "dtypes: int64(1), object(1)\n",
      "memory usage: 111.2+ KB\n"
     ]
    }
   ],
   "source": [
    "# <4> \n",
    "# Explore this file - number of colleges, head/tail/sample etc.\n",
    "# Notice this file has different number of colleges from the previous file\n",
    "# This indicate they are not identical and they overlap (they don't contain the same set of colleges)\n",
    "score_card.info()"
   ]
  },
  {
   "cell_type": "code",
   "execution_count": 167,
   "metadata": {
    "colab": {},
    "colab_type": "code",
    "id": "aH8NCrmVwtII"
   },
   "outputs": [
    {
     "name": "stdout",
     "output_type": "stream",
     "text": [
      "<class 'pandas.core.frame.DataFrame'>\n",
      "Int64Index: 7112 entries, 0 to 7111\n",
      "Data columns (total 10 columns):\n",
      "UNITID             7112 non-null int64\n",
      "OPEID              7112 non-null int64\n",
      "OPEID6             7112 non-null int64\n",
      "INSTNM             7112 non-null object\n",
      "CITY               7112 non-null object\n",
      "ZIP                7112 non-null object\n",
      "ADM_RATE           2037 non-null float64\n",
      "UGDS               6364 non-null float64\n",
      "TUITIONFEE_IN      4021 non-null float64\n",
      "MD_EARN_WNE_P10    5887 non-null object\n",
      "dtypes: float64(3), int64(3), object(4)\n",
      "memory usage: 611.2+ KB\n"
     ]
    }
   ],
   "source": [
    "# <5>\n",
    "#Join the two files together to produce a third file which contain all the columns and all colleges that are common to both files\n",
    "new_file=pd.merge(file,score_card,on='UNITID')\n",
    "new_file"
   ]
  },
  {
   "cell_type": "code",
   "execution_count": 170,
   "metadata": {
    "colab": {},
    "colab_type": "code",
    "id": "bPiKBlyEwtIM"
   },
   "outputs": [
    {
     "name": "stdout",
     "output_type": "stream",
     "text": [
      "UNITID             7112\n",
      "OPEID              7112\n",
      "OPEID6             7112\n",
      "INSTNM             7112\n",
      "CITY               7112\n",
      "ZIP                7112\n",
      "ADM_RATE           2037\n",
      "UGDS               6364\n",
      "TUITIONFEE_IN      4021\n",
      "MD_EARN_WNE_P10    5887\n",
      "dtype: int64\n"
     ]
    },
    {
     "data": {
      "text/html": [
       "<div>\n",
       "<style scoped>\n",
       "    .dataframe tbody tr th:only-of-type {\n",
       "        vertical-align: middle;\n",
       "    }\n",
       "\n",
       "    .dataframe tbody tr th {\n",
       "        vertical-align: top;\n",
       "    }\n",
       "\n",
       "    .dataframe thead th {\n",
       "        text-align: right;\n",
       "    }\n",
       "</style>\n",
       "<table border=\"1\" class=\"dataframe\">\n",
       "  <thead>\n",
       "    <tr style=\"text-align: right;\">\n",
       "      <th></th>\n",
       "      <th>UNITID</th>\n",
       "      <th>OPEID</th>\n",
       "      <th>OPEID6</th>\n",
       "      <th>INSTNM</th>\n",
       "      <th>CITY</th>\n",
       "      <th>ZIP</th>\n",
       "      <th>ADM_RATE</th>\n",
       "      <th>UGDS</th>\n",
       "      <th>TUITIONFEE_IN</th>\n",
       "      <th>MD_EARN_WNE_P10</th>\n",
       "    </tr>\n",
       "  </thead>\n",
       "  <tbody>\n",
       "    <tr>\n",
       "      <td>0</td>\n",
       "      <td>100654</td>\n",
       "      <td>100200</td>\n",
       "      <td>1002</td>\n",
       "      <td>Alabama A &amp; M University</td>\n",
       "      <td>Normal</td>\n",
       "      <td>35762</td>\n",
       "      <td>0.9027</td>\n",
       "      <td>4824.0</td>\n",
       "      <td>9857.0</td>\n",
       "      <td>31000</td>\n",
       "    </tr>\n",
       "    <tr>\n",
       "      <td>1</td>\n",
       "      <td>100663</td>\n",
       "      <td>105200</td>\n",
       "      <td>1052</td>\n",
       "      <td>University of Alabama at Birmingham</td>\n",
       "      <td>Birmingham</td>\n",
       "      <td>35294-0110</td>\n",
       "      <td>0.9181</td>\n",
       "      <td>12866.0</td>\n",
       "      <td>8328.0</td>\n",
       "      <td>41200</td>\n",
       "    </tr>\n",
       "    <tr>\n",
       "      <td>2</td>\n",
       "      <td>100690</td>\n",
       "      <td>2503400</td>\n",
       "      <td>25034</td>\n",
       "      <td>Amridge University</td>\n",
       "      <td>Montgomery</td>\n",
       "      <td>36117-3553</td>\n",
       "      <td>NaN</td>\n",
       "      <td>322.0</td>\n",
       "      <td>6900.0</td>\n",
       "      <td>39600</td>\n",
       "    </tr>\n",
       "    <tr>\n",
       "      <td>3</td>\n",
       "      <td>100706</td>\n",
       "      <td>105500</td>\n",
       "      <td>1055</td>\n",
       "      <td>University of Alabama in Huntsville</td>\n",
       "      <td>Huntsville</td>\n",
       "      <td>35899</td>\n",
       "      <td>0.8123</td>\n",
       "      <td>6917.0</td>\n",
       "      <td>10280.0</td>\n",
       "      <td>46700</td>\n",
       "    </tr>\n",
       "    <tr>\n",
       "      <td>4</td>\n",
       "      <td>100724</td>\n",
       "      <td>100500</td>\n",
       "      <td>1005</td>\n",
       "      <td>Alabama State University</td>\n",
       "      <td>Montgomery</td>\n",
       "      <td>36104-0271</td>\n",
       "      <td>0.9787</td>\n",
       "      <td>4189.0</td>\n",
       "      <td>11068.0</td>\n",
       "      <td>27700</td>\n",
       "    </tr>\n",
       "  </tbody>\n",
       "</table>\n",
       "</div>"
      ],
      "text/plain": [
       "   UNITID    OPEID  OPEID6                               INSTNM        CITY  \\\n",
       "0  100654   100200    1002             Alabama A & M University      Normal   \n",
       "1  100663   105200    1052  University of Alabama at Birmingham  Birmingham   \n",
       "2  100690  2503400   25034                   Amridge University  Montgomery   \n",
       "3  100706   105500    1055  University of Alabama in Huntsville  Huntsville   \n",
       "4  100724   100500    1005             Alabama State University  Montgomery   \n",
       "\n",
       "          ZIP  ADM_RATE     UGDS  TUITIONFEE_IN MD_EARN_WNE_P10  \n",
       "0       35762    0.9027   4824.0         9857.0           31000  \n",
       "1  35294-0110    0.9181  12866.0         8328.0           41200  \n",
       "2  36117-3553       NaN    322.0         6900.0           39600  \n",
       "3       35899    0.8123   6917.0        10280.0           46700  \n",
       "4  36104-0271    0.9787   4189.0        11068.0           27700  "
      ]
     },
     "execution_count": 170,
     "metadata": {},
     "output_type": "execute_result"
    }
   ],
   "source": [
    "# <6>\n",
    "# Explore the new file - number of colleges, head/tail/sample etc.\n",
    "print(new_file.count())\n",
    "new_file.head()"
   ]
  },
  {
   "cell_type": "code",
   "execution_count": 171,
   "metadata": {
    "colab": {},
    "colab_type": "code",
    "id": "kHZinqMNwtIQ"
   },
   "outputs": [
    {
     "data": {
      "text/html": [
       "<div>\n",
       "<style scoped>\n",
       "    .dataframe tbody tr th:only-of-type {\n",
       "        vertical-align: middle;\n",
       "    }\n",
       "\n",
       "    .dataframe tbody tr th {\n",
       "        vertical-align: top;\n",
       "    }\n",
       "\n",
       "    .dataframe thead th {\n",
       "        text-align: right;\n",
       "    }\n",
       "</style>\n",
       "<table border=\"1\" class=\"dataframe\">\n",
       "  <thead>\n",
       "    <tr style=\"text-align: right;\">\n",
       "      <th></th>\n",
       "      <th>UNITID</th>\n",
       "      <th>OPEID</th>\n",
       "      <th>OPEID6</th>\n",
       "      <th>INSTNM</th>\n",
       "      <th>CITY</th>\n",
       "      <th>ZIP</th>\n",
       "      <th>ADM_RATE</th>\n",
       "      <th>UGDS</th>\n",
       "      <th>TUITIONFEE_IN</th>\n",
       "      <th>MD_EARN_WNE_P10</th>\n",
       "    </tr>\n",
       "  </thead>\n",
       "  <tbody>\n",
       "    <tr>\n",
       "      <td>5226</td>\n",
       "      <td>448309</td>\n",
       "      <td>159101</td>\n",
       "      <td>1591</td>\n",
       "      <td>Shorter University-College of Adult &amp; Professi...</td>\n",
       "      <td>Rome</td>\n",
       "      <td>30165</td>\n",
       "      <td>0.0000</td>\n",
       "      <td>113.0</td>\n",
       "      <td>9680.0</td>\n",
       "      <td>43200</td>\n",
       "    </tr>\n",
       "    <tr>\n",
       "      <td>3979</td>\n",
       "      <td>243744</td>\n",
       "      <td>130500</td>\n",
       "      <td>1305</td>\n",
       "      <td>Stanford University</td>\n",
       "      <td>Stanford</td>\n",
       "      <td>94305</td>\n",
       "      <td>0.0473</td>\n",
       "      <td>7056.0</td>\n",
       "      <td>49617.0</td>\n",
       "      <td>94000</td>\n",
       "    </tr>\n",
       "    <tr>\n",
       "      <td>1557</td>\n",
       "      <td>166027</td>\n",
       "      <td>215500</td>\n",
       "      <td>2155</td>\n",
       "      <td>Harvard University</td>\n",
       "      <td>Cambridge</td>\n",
       "      <td>02138</td>\n",
       "      <td>0.0516</td>\n",
       "      <td>7532.0</td>\n",
       "      <td>48949.0</td>\n",
       "      <td>89700</td>\n",
       "    </tr>\n",
       "    <tr>\n",
       "      <td>2302</td>\n",
       "      <td>192110</td>\n",
       "      <td>274200</td>\n",
       "      <td>2742</td>\n",
       "      <td>The Juilliard School</td>\n",
       "      <td>New York</td>\n",
       "      <td>10023-6588</td>\n",
       "      <td>0.0592</td>\n",
       "      <td>486.0</td>\n",
       "      <td>43170.0</td>\n",
       "      <td>32800</td>\n",
       "    </tr>\n",
       "    <tr>\n",
       "      <td>2123</td>\n",
       "      <td>186131</td>\n",
       "      <td>262700</td>\n",
       "      <td>2627</td>\n",
       "      <td>Princeton University</td>\n",
       "      <td>Princeton</td>\n",
       "      <td>08544-0070</td>\n",
       "      <td>0.0641</td>\n",
       "      <td>5246.0</td>\n",
       "      <td>47140.0</td>\n",
       "      <td>74700</td>\n",
       "    </tr>\n",
       "    <tr>\n",
       "      <td>...</td>\n",
       "      <td>...</td>\n",
       "      <td>...</td>\n",
       "      <td>...</td>\n",
       "      <td>...</td>\n",
       "      <td>...</td>\n",
       "      <td>...</td>\n",
       "      <td>...</td>\n",
       "      <td>...</td>\n",
       "      <td>...</td>\n",
       "      <td>...</td>\n",
       "    </tr>\n",
       "    <tr>\n",
       "      <td>2367</td>\n",
       "      <td>194499</td>\n",
       "      <td>1235800</td>\n",
       "      <td>12358</td>\n",
       "      <td>Plaza College</td>\n",
       "      <td>Forest Hills</td>\n",
       "      <td>11375</td>\n",
       "      <td>0.3007</td>\n",
       "      <td>811.0</td>\n",
       "      <td>12450.0</td>\n",
       "      <td>23500</td>\n",
       "    </tr>\n",
       "    <tr>\n",
       "      <td>3035</td>\n",
       "      <td>213385</td>\n",
       "      <td>328400</td>\n",
       "      <td>3284</td>\n",
       "      <td>Lafayette College</td>\n",
       "      <td>Easton</td>\n",
       "      <td>18042-1768</td>\n",
       "      <td>0.3081</td>\n",
       "      <td>2567.0</td>\n",
       "      <td>51600.0</td>\n",
       "      <td>68600</td>\n",
       "    </tr>\n",
       "    <tr>\n",
       "      <td>1375</td>\n",
       "      <td>159382</td>\n",
       "      <td>201100</td>\n",
       "      <td>2011</td>\n",
       "      <td>Louisiana State University-Alexandria</td>\n",
       "      <td>Alexandria</td>\n",
       "      <td>71302-9121</td>\n",
       "      <td>0.3107</td>\n",
       "      <td>2662.0</td>\n",
       "      <td>6668.0</td>\n",
       "      <td>33700</td>\n",
       "    </tr>\n",
       "    <tr>\n",
       "      <td>2959</td>\n",
       "      <td>211291</td>\n",
       "      <td>323800</td>\n",
       "      <td>3238</td>\n",
       "      <td>Bucknell University</td>\n",
       "      <td>Lewisburg</td>\n",
       "      <td>17837</td>\n",
       "      <td>0.3108</td>\n",
       "      <td>3588.0</td>\n",
       "      <td>53986.0</td>\n",
       "      <td>70800</td>\n",
       "    </tr>\n",
       "    <tr>\n",
       "      <td>3357</td>\n",
       "      <td>221254</td>\n",
       "      <td>2106400</td>\n",
       "      <td>21064</td>\n",
       "      <td>O'More College of Design</td>\n",
       "      <td>Franklin</td>\n",
       "      <td>37064</td>\n",
       "      <td>0.3146</td>\n",
       "      <td>148.0</td>\n",
       "      <td>29880.0</td>\n",
       "      <td>31800</td>\n",
       "    </tr>\n",
       "  </tbody>\n",
       "</table>\n",
       "<p>100 rows × 10 columns</p>\n",
       "</div>"
      ],
      "text/plain": [
       "      UNITID    OPEID  OPEID6  \\\n",
       "5226  448309   159101    1591   \n",
       "3979  243744   130500    1305   \n",
       "1557  166027   215500    2155   \n",
       "2302  192110   274200    2742   \n",
       "2123  186131   262700    2627   \n",
       "...      ...      ...     ...   \n",
       "2367  194499  1235800   12358   \n",
       "3035  213385   328400    3284   \n",
       "1375  159382   201100    2011   \n",
       "2959  211291   323800    3238   \n",
       "3357  221254  2106400   21064   \n",
       "\n",
       "                                                 INSTNM          CITY  \\\n",
       "5226  Shorter University-College of Adult & Professi...          Rome   \n",
       "3979                                Stanford University      Stanford   \n",
       "1557                                 Harvard University     Cambridge   \n",
       "2302                               The Juilliard School      New York   \n",
       "2123                               Princeton University     Princeton   \n",
       "...                                                 ...           ...   \n",
       "2367                                      Plaza College  Forest Hills   \n",
       "3035                                  Lafayette College        Easton   \n",
       "1375              Louisiana State University-Alexandria    Alexandria   \n",
       "2959                                Bucknell University     Lewisburg   \n",
       "3357                           O'More College of Design      Franklin   \n",
       "\n",
       "             ZIP  ADM_RATE    UGDS  TUITIONFEE_IN MD_EARN_WNE_P10  \n",
       "5226       30165    0.0000   113.0         9680.0           43200  \n",
       "3979       94305    0.0473  7056.0        49617.0           94000  \n",
       "1557       02138    0.0516  7532.0        48949.0           89700  \n",
       "2302  10023-6588    0.0592   486.0        43170.0           32800  \n",
       "2123  08544-0070    0.0641  5246.0        47140.0           74700  \n",
       "...          ...       ...     ...            ...             ...  \n",
       "2367       11375    0.3007   811.0        12450.0           23500  \n",
       "3035  18042-1768    0.3081  2567.0        51600.0           68600  \n",
       "1375  71302-9121    0.3107  2662.0         6668.0           33700  \n",
       "2959       17837    0.3108  3588.0        53986.0           70800  \n",
       "3357       37064    0.3146   148.0        29880.0           31800  \n",
       "\n",
       "[100 rows x 10 columns]"
      ]
     },
     "execution_count": 171,
     "metadata": {},
     "output_type": "execute_result"
    }
   ],
   "source": [
    "# <7>\n",
    "# Find out the top 100 colleges that are hardest to get in (Top 100) from this new file\n",
    "columns = ['MD_EARN_WNE_P10','TUITIONFEE_IN']\n",
    "formatted_df = new_file.replace('PrivacySuppressed', pd.np.nan).dropna(axis=0, how='any', subset=columns)\n",
    "formatted_df\n",
    "top_100=formatted_df.nsmallest(100, 'ADM_RATE')\n",
    "top_100"
   ]
  },
  {
   "cell_type": "code",
   "execution_count": 172,
   "metadata": {
    "colab": {},
    "colab_type": "code",
    "id": "UD32npV8wtIU"
   },
   "outputs": [
    {
     "data": {
      "text/plain": [
       "count      100.000000\n",
       "mean     37534.240000\n",
       "std      18432.505958\n",
       "min       1020.000000\n",
       "25%      16918.250000\n",
       "50%      49640.500000\n",
       "75%      52666.000000\n",
       "max      57208.000000\n",
       "Name: TUITIONFEE_IN, dtype: float64"
      ]
     },
     "execution_count": 172,
     "metadata": {},
     "output_type": "execute_result"
    }
   ],
   "source": [
    "# <8>\n",
    "# Display the summary statistics of the in-state tuitions of the top 100 colleges that are hardest to get in\n",
    "top_100['TUITIONFEE_IN'].describe()"
   ]
  },
  {
   "cell_type": "code",
   "execution_count": 187,
   "metadata": {
    "colab": {},
    "colab_type": "code",
    "id": "4UwhZr7uwtIX"
   },
   "outputs": [
    {
     "data": {
      "text/plain": [
       "<matplotlib.axes._subplots.AxesSubplot at 0x1fbc0345208>"
      ]
     },
     "execution_count": 187,
     "metadata": {},
     "output_type": "execute_result"
    },
    {
     "data": {
      "image/png": "[encoded data removed]",
      "text/plain": [
       "<Figure size 432x288 with 1 Axes>"
      ]
     },
     "metadata": {
      "needs_background": "light"
     },
     "output_type": "display_data"
    }
   ],
   "source": [
    "# <9>\n",
    "# Display the histogram of the in-state tuitions of the top 100 colleges that are hardest to get in\n",
    "top_100.plot(y='TUITIONFEE_IN',bins=30,rwidth=0.8,kind='hist')\n"
   ]
  },
  {
   "cell_type": "code",
   "execution_count": 174,
   "metadata": {
    "colab": {},
    "colab_type": "code",
    "id": "QCZzQu2QwtIZ"
   },
   "outputs": [
    {
     "data": {
      "text/plain": [
       "count       100.000000\n",
       "mean      59389.000000\n",
       "std       18939.797739\n",
       "min       23500.000000\n",
       "25%       45150.000000\n",
       "50%       60700.000000\n",
       "75%       71325.000000\n",
       "max      104700.000000\n",
       "Name: MD_EARN_WNE_P10, dtype: float64"
      ]
     },
     "execution_count": 174,
     "metadata": {},
     "output_type": "execute_result"
    }
   ],
   "source": [
    "# <10>\n",
    "# Display the summary statistics of the earning potentials of the top 100 colleges that are hardest to get in\n",
    "\n",
    "\n",
    "top_100['MD_EARN_WNE_P10']=top_100['MD_EARN_WNE_P10'].astype('int')\n",
    "top_100['MD_EARN_WNE_P10'].describe()\n"
   ]
  },
  {
   "cell_type": "code",
   "execution_count": 186,
   "metadata": {
    "colab": {},
    "colab_type": "code",
    "id": "anSvKwsewtId"
   },
   "outputs": [
    {
     "data": {
      "text/plain": [
       "<matplotlib.axes._subplots.AxesSubplot at 0x1fbc0296f48>"
      ]
     },
     "execution_count": 186,
     "metadata": {},
     "output_type": "execute_result"
    },
    {
     "data": {
      "image/png": "[encoded data removed]",
      "text/plain": [
       "<Figure size 432x288 with 1 Axes>"
      ]
     },
     "metadata": {
      "needs_background": "light"
     },
     "output_type": "display_data"
    }
   ],
   "source": [
    "# <11>\n",
    "# Display the histogram of the earning potentials of the top 100 colleges that are hardest to get in\n",
    "top_100.plot(y='MD_EARN_WNE_P10',bins=30,rwidth=0.8,kind='hist')\n"
   ]
  },
  {
   "cell_type": "code",
   "execution_count": 185,
   "metadata": {
    "colab": {},
    "colab_type": "code",
    "id": "59_ol471wtIg"
   },
   "outputs": [
    {
     "data": {
      "text/plain": [
       "<matplotlib.axes._subplots.AxesSubplot at 0x1fbc022f848>"
      ]
     },
     "execution_count": 185,
     "metadata": {},
     "output_type": "execute_result"
    },
    {
     "data": {
      "image/png": "[encoded data removed]",
      "text/plain": [
       "<Figure size 432x288 with 1 Axes>"
      ]
     },
     "metadata": {
      "needs_background": "light"
     },
     "output_type": "display_data"
    }
   ],
   "source": [
    "# <12>\n",
    "# Make a scatter plot of the in-state tuition and the median graduate earnings of \n",
    "# the top 100 colleges that are hardest to get in\n",
    "# using Pandas\n",
    "top_100.plot(x ='TUITIONFEE_IN', y='MD_EARN_WNE_P10', kind = 'scatter',title='plot of the in-state tuition and the median graduate earnings of the top 100 colleges that are hardest to get in')\n"
   ]
  },
  {
   "cell_type": "code",
   "execution_count": 149,
   "metadata": {
    "colab": {},
    "colab_type": "code",
    "id": "FKgN5G-rwtIi"
   },
   "outputs": [
    {
     "data": {
      "text/plain": [
       "Text(0.5, 1.0, 'plot of the in-state tuition and the median graduate earnings of the top 100 colleges that are hardest to get in')"
      ]
     },
     "execution_count": 149,
     "metadata": {},
     "output_type": "execute_result"
    },
    {
     "data": {
      "image/png": "[encoded data removed]",
      "text/plain": [
       "<Figure size 432x288 with 1 Axes>"
      ]
     },
     "metadata": {
      "needs_background": "light"
     },
     "output_type": "display_data"
    }
   ],
   "source": [
    "# <13>\n",
    "# Make a scatter plot of the in-state tuition and the median graduate earnings of \n",
    "# the top 100 colleges that are hardest to get in\n",
    "# using Matplotlib\n",
    "plt.scatter(top_100.TUITIONFEE_IN, top_100.MD_EARN_WNE_P10)\n",
    "plt.xlabel(\"TUITIONFEE_IN\")\n",
    "plt.ylabel(\"MD_EARN_WNE_P10\")\n",
    "plt.title(\"plot of the in-state tuition and the median graduate earnings of the top 100 colleges that are hardest to get in\")"
   ]
  },
  {
   "cell_type": "code",
   "execution_count": 190,
   "metadata": {
    "colab": {},
    "colab_type": "code",
    "id": "lQkOKC54wtIk"
   },
   "outputs": [
    {
     "data": {
      "text/plain": [
       "Text(0.5, 1.0, 'plot of the in-state tuition and the median graduate earnings of the top 100 colleges that are hardest to get in')"
      ]
     },
     "execution_count": 190,
     "metadata": {},
     "output_type": "execute_result"
    },
    {
     "data": {
      "image/png": "[encoded data removed]",
      "text/plain": [
       "<Figure size 432x288 with 1 Axes>"
      ]
     },
     "metadata": {
      "needs_background": "light"
     },
     "output_type": "display_data"
    }
   ],
   "source": [
    "# <14>\n",
    "# Make a scatter plot of the in-state tuition and the median graduate earnings of \n",
    "# the top 100 colleges that are hardest to get in\n",
    "# using Seaborn\n",
    "sns.scatterplot(x=\"TUITIONFEE_IN\", y=\"MD_EARN_WNE_P10\", data=top_100).set_title('plot of the in-state tuition and the median graduate earnings of the top 100 colleges that are hardest to get in')\n"
   ]
  },
  {
   "cell_type": "code",
   "execution_count": 0,
   "metadata": {
    "colab": {},
    "colab_type": "code",
    "id": "dm-Hy1-jwtIm"
   },
   "outputs": [],
   "source": [
    "# <15> \n",
    "# Your observation/conclusion of the scatter plot (use the following Markdown cell)"
   ]
  },
  {
   "cell_type": "markdown",
   "metadata": {
    "colab_type": "text",
    "id": "ksJFdaPdwtIp"
   },
   "source": [
    "#### Based on my observation of the scatter plot,\n",
    "#### The two variables TUITIONFEE_IN (in-state tuition) and median graduate earnings (MD_EARN_WNE_P10) are related \n",
    "#### to each other in the sense that if the tutition fee in more the median graduate earnings of the students in high than \n",
    "#### compared to the earnings of the students where the tutition fee is less.\n"
   ]
  },
  {
   "cell_type": "code",
   "execution_count": 0,
   "metadata": {
    "colab": {},
    "colab_type": "code",
    "id": "y-QOPE6UwtIq"
   },
   "outputs": [],
   "source": []
  }
 ],
 "metadata": {
  "colab": {
   "include_colab_link": true,
   "name": "Assignment-04.ipynb",
   "provenance": []
  },
  "kernelspec": {
   "display_name": "Python 3",
   "language": "python",
   "name": "python3"
  },
  "language_info": {
   "codemirror_mode": {
    "name": "ipython",
    "version": 3
   },
   "file_extension": ".py",
   "mimetype": "text/x-python",
   "name": "python",
   "nbconvert_exporter": "python",
   "pygments_lexer": "ipython3",
   "version": "3.7.4"
  }
 },
 "nbformat": 4,
 "nbformat_minor": 1
}
