{
 "cells": [
  {
   "cell_type": "markdown",
   "metadata": {},
   "source": [
    "The below program generates 100 random integers between 0 and 9.\n",
    "It Prints them in a 10 by 10 matrix\n",
    "The format below (numbers are different but the asterisks * are included):"
   ]
  },
  {
   "cell_type": "code",
   "execution_count": 1,
   "metadata": {},
   "outputs": [],
   "source": [
    "import random   "
   ]
  },
  {
   "cell_type": "code",
   "execution_count": 2,
   "metadata": {},
   "outputs": [],
   "source": [
    "border=12"
   ]
  },
  {
   "cell_type": "code",
   "execution_count": 4,
   "metadata": {},
   "outputs": [
    {
     "name": "stdout",
     "output_type": "stream",
     "text": [
      "**********************************\n",
      "*  7  7  5  2  7  7  4  9  0  8  *  \n",
      "*  5  8  6  2  8  7  4  9  9  4  *  \n",
      "*  7  5  1  0  2  2  8  0  2  0  *  \n",
      "*  2  3  3  1  6  0  1  8  3  4  *  \n",
      "*  2  4  8  1  9  1  3  5  9  7  *  \n",
      "*  5  6  9  9  2  3  2  3  2  7  *  \n",
      "*  5  9  7  3  0  9  4  8  7  3  *  \n",
      "*  0  2  2  9  1  4  1  6  6  4  *  \n",
      "*  6  4  7  5  4  9  8  5  4  5  *  \n",
      "*  7  8  4  7  4  4  7  9  4  9  *  \n",
      "**********************************\n"
     ]
    }
   ],
   "source": [
    "#this for loop will print the top * line\n",
    "for i in range(0,34):\n",
    "    print(\"*\", end = '')\n",
    "print(\"\\n\", end = '')\n",
    "\n",
    "#this nested for loops print the sides 8 line and fills the square with random numbers from 0-9\n",
    "for i in range(border-2):\n",
    "    \n",
    "    for j in range(border):\n",
    "        \n",
    "        if( j == 0 or j == border - 1):     # condition for the sides of the square\n",
    "            \n",
    "            print('* ', end = ' ')\n",
    "            \n",
    "        else:\n",
    "            \n",
    "            print(random.randrange(0,10,1), end = '  ')   #fill the square with random numbers from 0-9\n",
    "            \n",
    "    print(\"\")\n",
    "    \n",
    "#this for loop will print the bottome * line\n",
    "for i in range(0,34):\n",
    "    print(\"*\", end = '')\n",
    "print(\"\\n\", end = '')\n"
   ]
  },
  {
   "cell_type": "code",
   "execution_count": null,
   "metadata": {},
   "outputs": [],
   "source": []
  },
  {
   "cell_type": "code",
   "execution_count": null,
   "metadata": {},
   "outputs": [],
   "source": []
  }
 ],
 "metadata": {
  "kernelspec": {
   "display_name": "Python 3",
   "language": "python",
   "name": "python3"
  },
  "language_info": {
   "codemirror_mode": {
    "name": "ipython",
    "version": 3
   },
   "file_extension": ".py",
   "mimetype": "text/x-python",
   "name": "python",
   "nbconvert_exporter": "python",
   "pygments_lexer": "ipython3",
   "version": "3.7.4"
  }
 },
 "nbformat": 4,
 "nbformat_minor": 2
}
