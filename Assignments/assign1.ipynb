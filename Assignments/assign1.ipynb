{
 "cells": [
  {
   "cell_type": "markdown",
   "metadata": {},
   "source": [
    "The below code prompts a user to enter 10 numbers.If the user enters anything other than numbers,it reminds them that only numbers are allowed and let them retry.It doesn't allow the user to enter more than 10 or less than 10 numbers.\n",
    "It displays the 10 numbers back to the user at the end.\n",
    "Also it calculates the Minimum,Maximum,Range ,Mean,Variance,Standard Deviation from the 10 numbers entered:"
   ]
  },
  {
   "cell_type": "code",
   "execution_count": 1,
   "metadata": {},
   "outputs": [],
   "source": [
    "#import numpy for mathematical calculation\n",
    "import numpy as ny"
   ]
  },
  {
   "cell_type": "code",
   "execution_count": 2,
   "metadata": {},
   "outputs": [],
   "source": [
    "#initializing list \n",
    "list1=[]"
   ]
  },
  {
   "cell_type": "code",
   "execution_count": 3,
   "metadata": {
    "scrolled": true
   },
   "outputs": [
    {
     "name": "stdout",
     "output_type": "stream",
     "text": [
      "Enter Number:1\n",
      "Enter Number:3\n",
      "Enter Number:d\n",
      "invalid entry!!Please try again with an integer\n",
      "Enter Number:de\n",
      "invalid entry!!Please try again with an integer\n",
      "Enter Number:2\n",
      "Enter Number:w\n",
      "invalid entry!!Please try again with an integer\n",
      "Enter Number:6\n",
      "Enter Number:3.\n",
      "invalid entry!!Please try again with an integer\n",
      "Enter Number:3\n",
      "Enter Number:5\n",
      "Enter Number:4\n",
      "Enter Number:6\n",
      "Enter Number:6.0\n",
      "invalid entry!!Please try again with an integer\n",
      "Enter Number:4\n",
      "Enter Number:8\n"
     ]
    }
   ],
   "source": [
    "#below part of the code takes input from the user in integer format only and allows user to retry for invalid entry\n",
    "for i in range(0, 10):\n",
    "    while True:\n",
    "        \n",
    "        try:\n",
    "            num = int(input('Enter Number:'))\n",
    "            list1=list1+[num]\n",
    "            break\n",
    "        except ValueError:\n",
    "            print(\"invalid entry!!Please try again with an integer\")\n",
    "\n",
    "\n",
    "\n"
   ]
  },
  {
   "cell_type": "code",
   "execution_count": 4,
   "metadata": {},
   "outputs": [
    {
     "name": "stdout",
     "output_type": "stream",
     "text": [
      "your entered numbers are: [1, 3, 2, 6, 3, 5, 4, 6, 4, 8]\n"
     ]
    }
   ],
   "source": [
    "#display the numbers back to the user\n",
    "print(\"your entered numbers are:\",list1)"
   ]
  },
  {
   "cell_type": "code",
   "execution_count": 5,
   "metadata": {},
   "outputs": [],
   "source": [
    "#below part of the code calculates the statistics for the given 10 numvers from user by using numpy functions\n",
    " \n",
    "mean=ny.mean(list1)\n",
    "std=ny.std(list1)\n",
    "variance=ny.var(list1)\n",
    "range_min=min(list1)\n",
    "range_max=max(list1)\n",
    "range=range_max-range_min"
   ]
  },
  {
   "cell_type": "code",
   "execution_count": 6,
   "metadata": {},
   "outputs": [
    {
     "name": "stdout",
     "output_type": "stream",
     "text": [
      " Minimum is 1 \n",
      " Maximum is 8 \n",
      " Standard deviation is 1.98997487421324 \n",
      " Variance is 3.96 \n",
      " Range is 7 \n",
      " Mean is 4.2\n"
     ]
    }
   ],
   "source": [
    "print(\" Minimum is\",range_min,\"\\n Maximum is\",range_max,\"\\n Standard deviation is\",std,\"\\n Variance is\",variance,\"\\n Range is\",range,\"\\n Mean is\",mean)"
   ]
  }
 ],
 "metadata": {
  "kernelspec": {
   "display_name": "Python 3",
   "language": "python",
   "name": "python3"
  },
  "language_info": {
   "codemirror_mode": {
    "name": "ipython",
    "version": 3
   },
   "file_extension": ".py",
   "mimetype": "text/x-python",
   "name": "python",
   "nbconvert_exporter": "python",
   "pygments_lexer": "ipython3",
   "version": "3.7.4"
  }
 },
 "nbformat": 4,
 "nbformat_minor": 2
}
