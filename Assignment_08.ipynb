{
  "nbformat": 4,
  "nbformat_minor": 0,
  "metadata": {
    "colab": {
      "name": "Assignment_08.ipynb",
      "provenance": [],
      "collapsed_sections": [],
      "authorship_tag": "ABX9TyOAcVcS5syKKwJYmoNBg1kW",
      "include_colab_link": true
    },
    "kernelspec": {
      "name": "python3",
      "display_name": "Python 3"
    }
  },
  "cells": [
    {
      "cell_type": "markdown",
      "metadata": {
        "id": "view-in-github",
        "colab_type": "text"
      },
      "source": [
        "<a href=\"https://colab.research.google.com/github/Prashant109406/DATA690-WANG/blob/master/Assignment_08.ipynb\" target=\"_parent\"><img src=\"https://colab.research.google.com/assets/colab-badge.svg\" alt=\"Open In Colab\"/></a>"
      ]
    },
    {
      "cell_type": "code",
      "metadata": {
        "id": "kqdd089IEkCj",
        "colab_type": "code",
        "colab": {}
      },
      "source": [
        "#impoerting libraries\n",
        "import math\n",
        "import pandas as pd\n",
        "import numpy as np\n",
        "import matplotlib.pyplot as plt\n",
        "\n",
        "# set global parameter to increase the plot size. Default size is too small\n",
        "plt.rcParams[\"figure.figsize\"] = (12,12)\n"
      ],
      "execution_count": 0,
      "outputs": []
    },
    {
      "cell_type": "code",
      "metadata": {
        "id": "OFEAVJhrFMHj",
        "colab_type": "code",
        "colab": {}
      },
      "source": [
        "DATA_URL = \"https://ed-public-download.app.cloud.gov/downloads/Most-Recent-Cohorts-All-Data-Elements.csv\""
      ],
      "execution_count": 0,
      "outputs": []
    },
    {
      "cell_type": "code",
      "metadata": {
        "id": "1e2F9FFzFT63",
        "colab_type": "code",
        "colab": {}
      },
      "source": [
        "df = pd.read_csv(DATA_URL, usecols=['CONTROL','MD_EARN_WNE_P10'])\n",
        "#df = pd.read_csv(DATA_URL)"
      ],
      "execution_count": 0,
      "outputs": []
    },
    {
      "cell_type": "code",
      "metadata": {
        "id": "f3P-3cVbFjBY",
        "colab_type": "code",
        "colab": {
          "base_uri": "https://localhost:8080/",
          "height": 419
        },
        "outputId": "d0836ed7-f7c0-4a3d-9052-95e61f29b476"
      },
      "source": [
        "df"
      ],
      "execution_count": 127,
      "outputs": [
        {
          "output_type": "execute_result",
          "data": {
            "text/html": [
              "<div>\n",
              "<style scoped>\n",
              "    .dataframe tbody tr th:only-of-type {\n",
              "        vertical-align: middle;\n",
              "    }\n",
              "\n",
              "    .dataframe tbody tr th {\n",
              "        vertical-align: top;\n",
              "    }\n",
              "\n",
              "    .dataframe thead th {\n",
              "        text-align: right;\n",
              "    }\n",
              "</style>\n",
              "<table border=\"1\" class=\"dataframe\">\n",
              "  <thead>\n",
              "    <tr style=\"text-align: right;\">\n",
              "      <th></th>\n",
              "      <th>CONTROL</th>\n",
              "      <th>MD_EARN_WNE_P10</th>\n",
              "    </tr>\n",
              "  </thead>\n",
              "  <tbody>\n",
              "    <tr>\n",
              "      <th>0</th>\n",
              "      <td>1</td>\n",
              "      <td>31000</td>\n",
              "    </tr>\n",
              "    <tr>\n",
              "      <th>1</th>\n",
              "      <td>1</td>\n",
              "      <td>41200</td>\n",
              "    </tr>\n",
              "    <tr>\n",
              "      <th>2</th>\n",
              "      <td>2</td>\n",
              "      <td>39600</td>\n",
              "    </tr>\n",
              "    <tr>\n",
              "      <th>3</th>\n",
              "      <td>1</td>\n",
              "      <td>46700</td>\n",
              "    </tr>\n",
              "    <tr>\n",
              "      <th>4</th>\n",
              "      <td>1</td>\n",
              "      <td>27700</td>\n",
              "    </tr>\n",
              "    <tr>\n",
              "      <th>...</th>\n",
              "      <td>...</td>\n",
              "      <td>...</td>\n",
              "    </tr>\n",
              "    <tr>\n",
              "      <th>6801</th>\n",
              "      <td>1</td>\n",
              "      <td>NaN</td>\n",
              "    </tr>\n",
              "    <tr>\n",
              "      <th>6802</th>\n",
              "      <td>1</td>\n",
              "      <td>NaN</td>\n",
              "    </tr>\n",
              "    <tr>\n",
              "      <th>6803</th>\n",
              "      <td>3</td>\n",
              "      <td>NaN</td>\n",
              "    </tr>\n",
              "    <tr>\n",
              "      <th>6804</th>\n",
              "      <td>3</td>\n",
              "      <td>NaN</td>\n",
              "    </tr>\n",
              "    <tr>\n",
              "      <th>6805</th>\n",
              "      <td>1</td>\n",
              "      <td>NaN</td>\n",
              "    </tr>\n",
              "  </tbody>\n",
              "</table>\n",
              "<p>6806 rows × 2 columns</p>\n",
              "</div>"
            ],
            "text/plain": [
              "      CONTROL MD_EARN_WNE_P10\n",
              "0           1           31000\n",
              "1           1           41200\n",
              "2           2           39600\n",
              "3           1           46700\n",
              "4           1           27700\n",
              "...       ...             ...\n",
              "6801        1             NaN\n",
              "6802        1             NaN\n",
              "6803        3             NaN\n",
              "6804        3             NaN\n",
              "6805        1             NaN\n",
              "\n",
              "[6806 rows x 2 columns]"
            ]
          },
          "metadata": {
            "tags": []
          },
          "execution_count": 127
        }
      ]
    },
    {
      "cell_type": "code",
      "metadata": {
        "id": "j3DmFLClFrlG",
        "colab_type": "code",
        "colab": {}
      },
      "source": [
        "#selecting only public institution\n",
        "df1=df.loc[df['CONTROL'] == 1]\n"
      ],
      "execution_count": 0,
      "outputs": []
    },
    {
      "cell_type": "code",
      "metadata": {
        "id": "o1zZRuTNJZBp",
        "colab_type": "code",
        "colab": {
          "base_uri": "https://localhost:8080/",
          "height": 170
        },
        "outputId": "1154b75b-8847-4e30-e41f-c3af6c679d23"
      },
      "source": [
        "df1.info()"
      ],
      "execution_count": 129,
      "outputs": [
        {
          "output_type": "stream",
          "text": [
            "<class 'pandas.core.frame.DataFrame'>\n",
            "Int64Index: 2102 entries, 0 to 6805\n",
            "Data columns (total 2 columns):\n",
            " #   Column           Non-Null Count  Dtype \n",
            "---  ------           --------------  ----- \n",
            " 0   CONTROL          2102 non-null   int64 \n",
            " 1   MD_EARN_WNE_P10  1955 non-null   object\n",
            "dtypes: int64(1), object(1)\n",
            "memory usage: 49.3+ KB\n"
          ],
          "name": "stdout"
        }
      ]
    },
    {
      "cell_type": "code",
      "metadata": {
        "id": "_hwDxDwpF4aR",
        "colab_type": "code",
        "colab": {
          "base_uri": "https://localhost:8080/",
          "height": 102
        },
        "outputId": "e6616f00-62bb-4457-ba9c-0ec9ed752ce3"
      },
      "source": [
        "#dropping nan values\n",
        "df1.dropna(inplace=True)\n"
      ],
      "execution_count": 130,
      "outputs": [
        {
          "output_type": "stream",
          "text": [
            "/usr/local/lib/python3.6/dist-packages/ipykernel_launcher.py:1: SettingWithCopyWarning: \n",
            "A value is trying to be set on a copy of a slice from a DataFrame\n",
            "\n",
            "See the caveats in the documentation: https://pandas.pydata.org/pandas-docs/stable/user_guide/indexing.html#returning-a-view-versus-a-copy\n",
            "  \"\"\"Entry point for launching an IPython kernel.\n"
          ],
          "name": "stderr"
        }
      ]
    },
    {
      "cell_type": "code",
      "metadata": {
        "id": "dBkg3FqfLakw",
        "colab_type": "code",
        "colab": {
          "base_uri": "https://localhost:8080/",
          "height": 419
        },
        "outputId": "f6105c3a-48c9-46e5-fa45-95a144ce90a5"
      },
      "source": [
        "df2=df1.drop( df1[ df1['MD_EARN_WNE_P10']== \"PrivacySuppressed\"].index ,axis=0, inplace=False)\n",
        "df2\n"
      ],
      "execution_count": 131,
      "outputs": [
        {
          "output_type": "execute_result",
          "data": {
            "text/html": [
              "<div>\n",
              "<style scoped>\n",
              "    .dataframe tbody tr th:only-of-type {\n",
              "        vertical-align: middle;\n",
              "    }\n",
              "\n",
              "    .dataframe tbody tr th {\n",
              "        vertical-align: top;\n",
              "    }\n",
              "\n",
              "    .dataframe thead th {\n",
              "        text-align: right;\n",
              "    }\n",
              "</style>\n",
              "<table border=\"1\" class=\"dataframe\">\n",
              "  <thead>\n",
              "    <tr style=\"text-align: right;\">\n",
              "      <th></th>\n",
              "      <th>CONTROL</th>\n",
              "      <th>MD_EARN_WNE_P10</th>\n",
              "    </tr>\n",
              "  </thead>\n",
              "  <tbody>\n",
              "    <tr>\n",
              "      <th>0</th>\n",
              "      <td>1</td>\n",
              "      <td>31000</td>\n",
              "    </tr>\n",
              "    <tr>\n",
              "      <th>1</th>\n",
              "      <td>1</td>\n",
              "      <td>41200</td>\n",
              "    </tr>\n",
              "    <tr>\n",
              "      <th>3</th>\n",
              "      <td>1</td>\n",
              "      <td>46700</td>\n",
              "    </tr>\n",
              "    <tr>\n",
              "      <th>4</th>\n",
              "      <td>1</td>\n",
              "      <td>27700</td>\n",
              "    </tr>\n",
              "    <tr>\n",
              "      <th>5</th>\n",
              "      <td>1</td>\n",
              "      <td>44500</td>\n",
              "    </tr>\n",
              "    <tr>\n",
              "      <th>...</th>\n",
              "      <td>...</td>\n",
              "      <td>...</td>\n",
              "    </tr>\n",
              "    <tr>\n",
              "      <th>6592</th>\n",
              "      <td>1</td>\n",
              "      <td>31700</td>\n",
              "    </tr>\n",
              "    <tr>\n",
              "      <th>6607</th>\n",
              "      <td>1</td>\n",
              "      <td>50600</td>\n",
              "    </tr>\n",
              "    <tr>\n",
              "      <th>6608</th>\n",
              "      <td>1</td>\n",
              "      <td>50600</td>\n",
              "    </tr>\n",
              "    <tr>\n",
              "      <th>6609</th>\n",
              "      <td>1</td>\n",
              "      <td>50600</td>\n",
              "    </tr>\n",
              "    <tr>\n",
              "      <th>6615</th>\n",
              "      <td>1</td>\n",
              "      <td>32000</td>\n",
              "    </tr>\n",
              "  </tbody>\n",
              "</table>\n",
              "<p>1853 rows × 2 columns</p>\n",
              "</div>"
            ],
            "text/plain": [
              "      CONTROL MD_EARN_WNE_P10\n",
              "0           1           31000\n",
              "1           1           41200\n",
              "3           1           46700\n",
              "4           1           27700\n",
              "5           1           44500\n",
              "...       ...             ...\n",
              "6592        1           31700\n",
              "6607        1           50600\n",
              "6608        1           50600\n",
              "6609        1           50600\n",
              "6615        1           32000\n",
              "\n",
              "[1853 rows x 2 columns]"
            ]
          },
          "metadata": {
            "tags": []
          },
          "execution_count": 131
        }
      ]
    },
    {
      "cell_type": "code",
      "metadata": {
        "id": "Iy8VGZBlPDbn",
        "colab_type": "code",
        "colab": {}
      },
      "source": [
        "df2[\"MD_EARN_WNE_P10\"] = df2[\"MD_EARN_WNE_P10\"].astype(int)"
      ],
      "execution_count": 0,
      "outputs": []
    },
    {
      "cell_type": "code",
      "metadata": {
        "id": "gj_N65sNGAjL",
        "colab_type": "code",
        "colab": {
          "base_uri": "https://localhost:8080/",
          "height": 170
        },
        "outputId": "6f13e5db-1391-4786-a85d-15d71fcd398d"
      },
      "source": [
        "df2.info()"
      ],
      "execution_count": 133,
      "outputs": [
        {
          "output_type": "stream",
          "text": [
            "<class 'pandas.core.frame.DataFrame'>\n",
            "Int64Index: 1853 entries, 0 to 6615\n",
            "Data columns (total 2 columns):\n",
            " #   Column           Non-Null Count  Dtype\n",
            "---  ------           --------------  -----\n",
            " 0   CONTROL          1853 non-null   int64\n",
            " 1   MD_EARN_WNE_P10  1853 non-null   int64\n",
            "dtypes: int64(2)\n",
            "memory usage: 43.4 KB\n"
          ],
          "name": "stdout"
        }
      ]
    },
    {
      "cell_type": "code",
      "metadata": {
        "id": "yfmcM5ODJlZr",
        "colab_type": "code",
        "colab": {
          "base_uri": "https://localhost:8080/",
          "height": 34
        },
        "outputId": "8d0bfa8b-77b9-4771-85d3-5f165714c0af"
      },
      "source": [
        "#performing statistics and confidance interval for sample size 50\n",
        "SAMPLE_SIZE = 50  \n",
        "\n",
        "df_sample = df2.sample(SAMPLE_SIZE)\n",
        "sample_mean = df_sample[\"MD_EARN_WNE_P10\"].mean()\n",
        "sample_mean"
      ],
      "execution_count": 134,
      "outputs": [
        {
          "output_type": "execute_result",
          "data": {
            "text/plain": [
              "35202.0"
            ]
          },
          "metadata": {
            "tags": []
          },
          "execution_count": 134
        }
      ]
    },
    {
      "cell_type": "code",
      "metadata": {
        "id": "emxqgeWeKUnm",
        "colab_type": "code",
        "colab": {
          "base_uri": "https://localhost:8080/",
          "height": 34
        },
        "outputId": "5d84bb97-7821-4d9f-a1f3-a5daa8aad3b4"
      },
      "source": [
        "sample_std = df_sample[\"MD_EARN_WNE_P10\"].std()\n",
        "round(sample_std, 2)"
      ],
      "execution_count": 135,
      "outputs": [
        {
          "output_type": "execute_result",
          "data": {
            "text/plain": [
              "12038.6"
            ]
          },
          "metadata": {
            "tags": []
          },
          "execution_count": 135
        }
      ]
    },
    {
      "cell_type": "code",
      "metadata": {
        "id": "faqgWS5IKqtl",
        "colab_type": "code",
        "colab": {
          "base_uri": "https://localhost:8080/",
          "height": 34
        },
        "outputId": "19e9732d-5e0e-4b24-822d-cae2c6cb6400"
      },
      "source": [
        "std_err = sample_std / math.sqrt(SAMPLE_SIZE)       # standard error\n",
        "std_err"
      ],
      "execution_count": 136,
      "outputs": [
        {
          "output_type": "execute_result",
          "data": {
            "text/plain": [
              "1702.5155218208192"
            ]
          },
          "metadata": {
            "tags": []
          },
          "execution_count": 136
        }
      ]
    },
    {
      "cell_type": "code",
      "metadata": {
        "id": "xItS-uJvPaI-",
        "colab_type": "code",
        "colab": {
          "base_uri": "https://localhost:8080/",
          "height": 51
        },
        "outputId": "7bcf4bc7-abea-45d4-d159-3f69ad334de7"
      },
      "source": [
        "import numpy as np\n",
        "import scipy.stats\n",
        "confidence=0.95\n",
        "\n",
        "a = 1.0 * np.array(df_sample[\"MD_EARN_WNE_P10\"])\n",
        "n = len(a)\n",
        "m, se = np.mean(a), scipy.stats.sem(a)\n",
        "h = se * scipy.stats.t.ppf((1 + confidence) / 2., n-1)\n",
        "print(\"Lower confidence limit at 95% confidence level = \",m-h)\n",
        "print(\"Upper confidence limit at 95% confidence level = \",m+h)"
      ],
      "execution_count": 137,
      "outputs": [
        {
          "output_type": "stream",
          "text": [
            "Lower confidence limit at 95% confidence level =  31780.66697101541\n",
            "Upper confidence limit at 95% confidence level =  38623.33302898459\n"
          ],
          "name": "stdout"
        }
      ]
    },
    {
      "cell_type": "code",
      "metadata": {
        "id": "p7O52-uNQoRt",
        "colab_type": "code",
        "colab": {
          "base_uri": "https://localhost:8080/",
          "height": 51
        },
        "outputId": "411d1a96-7963-4f4e-aca7-b1e618afcb3f"
      },
      "source": [
        "confidence=0.68\n",
        "a = 1.0 * np.array(df_sample[\"MD_EARN_WNE_P10\"])\n",
        "n = len(a)\n",
        "m, se = np.mean(a), scipy.stats.sem(a)\n",
        "h = se * scipy.stats.t.ppf((1 + confidence) / 2., n-1)\n",
        "print(\"Lower confidence limit at 68% confidence level = \",m-h)\n",
        "print(\"Upper confidence limit at 68% confidence level = \",m+h)"
      ],
      "execution_count": 138,
      "outputs": [
        {
          "output_type": "stream",
          "text": [
            "Lower confidence limit at 68% confidence level =  33491.56412001615\n",
            "Upper confidence limit at 68% confidence level =  36912.43587998385\n"
          ],
          "name": "stdout"
        }
      ]
    },
    {
      "cell_type": "code",
      "metadata": {
        "id": "rAueYYnCQuHd",
        "colab_type": "code",
        "colab": {
          "base_uri": "https://localhost:8080/",
          "height": 51
        },
        "outputId": "012bd535-cccf-4429-fbc0-23fd9af7548e"
      },
      "source": [
        "confidence=0.997\n",
        "a = 1.0 * np.array(df_sample[\"MD_EARN_WNE_P10\"])\n",
        "n = len(a)\n",
        "m, se = np.mean(a), scipy.stats.sem(a)\n",
        "h = se * scipy.stats.t.ppf((1 + confidence) / 2., n-1)\n",
        "print(\"Lower confidence limit at 99.7% confidence level = \",m-h)\n",
        "print(\"Upper confidence limit at 99.7% confidence level = \",m+h)"
      ],
      "execution_count": 139,
      "outputs": [
        {
          "output_type": "stream",
          "text": [
            "Lower confidence limit at 99.7% confidence level =  29884.47988877121\n",
            "Upper confidence limit at 99.7% confidence level =  40519.52011122879\n"
          ],
          "name": "stdout"
        }
      ]
    },
    {
      "cell_type": "code",
      "metadata": {
        "id": "__RAUKPxRe0J",
        "colab_type": "code",
        "colab": {
          "base_uri": "https://localhost:8080/",
          "height": 34
        },
        "outputId": "7f48a587-3f9c-40c8-c6e9-ff0e2b14977a"
      },
      "source": [
        "mean=df2[\"MD_EARN_WNE_P10\"].mean()\n",
        "print(\"Population mean\", mean)"
      ],
      "execution_count": 140,
      "outputs": [
        {
          "output_type": "stream",
          "text": [
            "Population mean 36083.21640582839\n"
          ],
          "name": "stdout"
        }
      ]
    },
    {
      "cell_type": "code",
      "metadata": {
        "id": "JS0mY4tfRsqi",
        "colab_type": "code",
        "colab": {
          "base_uri": "https://localhost:8080/",
          "height": 34
        },
        "outputId": "8292dcd1-8610-4509-a2de-f018117898bd"
      },
      "source": [
        "mean_diff=sample_mean-mean\n",
        "print(\"Difference in Mean and Sample mean\",mean_diff)"
      ],
      "execution_count": 141,
      "outputs": [
        {
          "output_type": "stream",
          "text": [
            "Difference in Mean and Sample mean -881.2164058283888\n"
          ],
          "name": "stdout"
        }
      ]
    },
    {
      "cell_type": "code",
      "metadata": {
        "id": "Ib4soGROR58W",
        "colab_type": "code",
        "colab": {}
      },
      "source": [
        ""
      ],
      "execution_count": 0,
      "outputs": []
    },
    {
      "cell_type": "code",
      "metadata": {
        "colab_type": "code",
        "outputId": "26d04d5a-5946-4182-87a1-eb2c154d9995",
        "id": "FzAYfxwGSeG4",
        "colab": {
          "base_uri": "https://localhost:8080/",
          "height": 34
        }
      },
      "source": [
        "#performing statistics and confidance interval for sample size 100\n",
        "SAMPLE_SIZE = 100   \n",
        "\n",
        "df_sample1 = df2.sample(SAMPLE_SIZE)\n",
        "sample_mean1 = df_sample1[\"MD_EARN_WNE_P10\"].mean()\n",
        "sample_mean1"
      ],
      "execution_count": 142,
      "outputs": [
        {
          "output_type": "execute_result",
          "data": {
            "text/plain": [
              "37291.0"
            ]
          },
          "metadata": {
            "tags": []
          },
          "execution_count": 142
        }
      ]
    },
    {
      "cell_type": "code",
      "metadata": {
        "colab_type": "code",
        "outputId": "c8da8f14-49ff-4118-e101-d7f251f20378",
        "id": "epbWEhv6SeHD",
        "colab": {
          "base_uri": "https://localhost:8080/",
          "height": 34
        }
      },
      "source": [
        "sample_std1 = df_sample1[\"MD_EARN_WNE_P10\"].std()\n",
        "round(sample_std1, 2)"
      ],
      "execution_count": 143,
      "outputs": [
        {
          "output_type": "execute_result",
          "data": {
            "text/plain": [
              "13258.28"
            ]
          },
          "metadata": {
            "tags": []
          },
          "execution_count": 143
        }
      ]
    },
    {
      "cell_type": "code",
      "metadata": {
        "colab_type": "code",
        "outputId": "91f6ca6e-d375-4009-bb50-fb5c2bd6b174",
        "id": "zQO9ScGNSeHF",
        "colab": {
          "base_uri": "https://localhost:8080/",
          "height": 34
        }
      },
      "source": [
        "std_err1 = sample_std1 / math.sqrt(SAMPLE_SIZE)       # standard error\n",
        "std_err1"
      ],
      "execution_count": 144,
      "outputs": [
        {
          "output_type": "execute_result",
          "data": {
            "text/plain": [
              "1325.8281917124082"
            ]
          },
          "metadata": {
            "tags": []
          },
          "execution_count": 144
        }
      ]
    },
    {
      "cell_type": "code",
      "metadata": {
        "colab_type": "code",
        "outputId": "4d274f06-e926-4a96-822a-632913bbd789",
        "id": "7Xpf1SuFSeHG",
        "colab": {
          "base_uri": "https://localhost:8080/",
          "height": 51
        }
      },
      "source": [
        "import numpy as np\n",
        "import scipy.stats\n",
        "confidence=0.95\n",
        "\n",
        "a = 1.0 * np.array(df_sample1[\"MD_EARN_WNE_P10\"])\n",
        "n = len(a)\n",
        "m, se = np.mean(a), scipy.stats.sem(a)\n",
        "h = se * scipy.stats.t.ppf((1 + confidence) / 2., n-1)\n",
        "print(\"Lower confidence limit at 95% confidence level = \",m-h)\n",
        "print(\"Upper confidence limit at 95% confidence level = \",m+h)"
      ],
      "execution_count": 145,
      "outputs": [
        {
          "output_type": "stream",
          "text": [
            "Lower confidence limit at 95% confidence level =  34660.26922721614\n",
            "Upper confidence limit at 95% confidence level =  39921.73077278386\n"
          ],
          "name": "stdout"
        }
      ]
    },
    {
      "cell_type": "code",
      "metadata": {
        "colab_type": "code",
        "outputId": "f0af1240-6c21-49b3-d2fa-02f48c80ddfe",
        "id": "LShJl3T9SeHI",
        "colab": {
          "base_uri": "https://localhost:8080/",
          "height": 51
        }
      },
      "source": [
        "confidence=0.68\n",
        "a = 1.0 * np.array(df_sample1[\"MD_EARN_WNE_P10\"])\n",
        "n = len(a)\n",
        "m, se = np.mean(a), scipy.stats.sem(a)\n",
        "h = se * scipy.stats.t.ppf((1 + confidence) / 2., n-1)\n",
        "print(\"Lower confidence limit at 68% confidence level = \",m-h)\n",
        "print(\"Higher confidence limit at 68% confidence level = \",m+h)"
      ],
      "execution_count": 146,
      "outputs": [
        {
          "output_type": "stream",
          "text": [
            "Lower confidence limit at 68% confidence level =  35965.86420245829\n",
            "Higher confidence limit at 68% confidence level =  38616.13579754171\n"
          ],
          "name": "stdout"
        }
      ]
    },
    {
      "cell_type": "code",
      "metadata": {
        "colab_type": "code",
        "outputId": "82571e3f-6b59-458d-e685-5f03bb297fa4",
        "id": "k9qKjgkeSeHJ",
        "colab": {
          "base_uri": "https://localhost:8080/",
          "height": 51
        }
      },
      "source": [
        "confidence=0.997\n",
        "a = 1.0 * np.array(df_sample1[\"MD_EARN_WNE_P10\"])\n",
        "n = len(a)\n",
        "m, se = np.mean(a), scipy.stats.sem(a)\n",
        "h = se * scipy.stats.t.ppf((1 + confidence) / 2., n-1)\n",
        "print(\"Lower confidence limit at 99.7% confidence level = \",m-h)\n",
        "print(\"Upper confidence limit at 99.7% confidence level = \",m+h)"
      ],
      "execution_count": 147,
      "outputs": [
        {
          "output_type": "stream",
          "text": [
            "Lower confidence limit at 99.7% confidence level =  33256.57808717758\n",
            "Upper confidence limit at 99.7% confidence level =  41325.42191282242\n"
          ],
          "name": "stdout"
        }
      ]
    },
    {
      "cell_type": "code",
      "metadata": {
        "colab_type": "code",
        "outputId": "21bc13e7-97e9-4ba9-e708-61638cff5838",
        "id": "IlECfakwSeHM",
        "colab": {
          "base_uri": "https://localhost:8080/",
          "height": 34
        }
      },
      "source": [
        "mean1=df2[\"MD_EARN_WNE_P10\"].mean()\n",
        "print(\"Population mean\", mean1)"
      ],
      "execution_count": 148,
      "outputs": [
        {
          "output_type": "stream",
          "text": [
            "Population mean 36083.21640582839\n"
          ],
          "name": "stdout"
        }
      ]
    },
    {
      "cell_type": "code",
      "metadata": {
        "colab_type": "code",
        "outputId": "9ca9eb3a-5ae5-4fa4-fb44-03d3362c7027",
        "id": "DF1iO5ZJSeHN",
        "colab": {
          "base_uri": "https://localhost:8080/",
          "height": 34
        }
      },
      "source": [
        "mean_diff1=sample_mean1-mean1\n",
        "print(\"Difference in Mean and Sample mean\",mean_diff1)"
      ],
      "execution_count": 149,
      "outputs": [
        {
          "output_type": "stream",
          "text": [
            "Difference in Mean and Sample mean 1207.7835941716112\n"
          ],
          "name": "stdout"
        }
      ]
    },
    {
      "cell_type": "markdown",
      "metadata": {
        "id": "QbQ1n2F_md3l",
        "colab_type": "text"
      },
      "source": [
        "As we increased the sample size we can see that the difference betweeen the upper confidence interval and lower confidence interval has been narrowed down."
      ]
    },
    {
      "cell_type": "code",
      "metadata": {
        "id": "yZd8pxYMng6W",
        "colab_type": "code",
        "colab": {}
      },
      "source": [
        ""
      ],
      "execution_count": 0,
      "outputs": []
    }
  ]
}